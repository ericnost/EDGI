{
 "cells": [
  {
   "cell_type": "code",
   "execution_count": null,
   "metadata": {
    "scrolled": true
   },
   "outputs": [],
   "source": [
    "#!/usr/bin/env python3\n",
    "# -*- coding: utf-8 -*-\n",
    "\"\"\"\n",
    "Created on Sat Nov 17 14:11:56 2018\n",
    "\n",
    "@author: Eric\n",
    "\"\"\"\n",
    "\n",
    "import requests\n",
    "import csv\n",
    "import json\n",
    "from statistics import *\n",
    "from collections import Counter\n",
    "import datetime"
   ]
  },
  {
   "cell_type": "code",
   "execution_count": null,
   "metadata": {
    "scrolled": true
   },
   "outputs": [],
   "source": [
    "# Prep the data\n",
    "codes={} # collate the compliance category codes data at the national level\n",
    "inspectionsByCodes={'S':[],'_':[], 'U':[], 'V':[]} # collate days since last inspection by most recent compliance category\n",
    "inspectionDates=[] # Date of last inspection\n",
    "inspectionDays=[] # Number of days since last inspection\n",
    "for q in range(1,13): # set up each quarter\n",
    "    codes[\"Q\"+str(q)]=[]"
   ]
  },
  {
   "cell_type": "code",
   "execution_count": null,
   "metadata": {
    "scrolled": true
   },
   "outputs": [],
   "source": [
    "# The main script\n",
    "# Loop through each EPA region and get the ECHO results for compliance information\n",
    "x=1\n",
    "while x < 11:\n",
    "    region=str(x)\n",
    "    if len(region)<2:\n",
    "        region = \"0\"+region\n",
    "    print(\"R\"+region) # Print out which region we're currently working on\n",
    "    \n",
    "    # call up ECHO\n",
    "    url=\"https://ofmpub.epa.gov/echo/echo_rest_services.get_facility_info?output=json&p_reg=\"+region+\"&p_act=Y&p_maj=Y&p_med=ALL\"\n",
    "    contents = requests.get(url).content.decode()\n",
    "    obj = json.loads(contents) # Get the results from ECHO and turn them into something Python can work with\n",
    "    \n",
    "    facilities = obj['Results']['Facilities'] # Grab the information on the facilities\n",
    "    region=\"R\"+region # Name the current region\n",
    "    \n",
    "    # Option to break down results by region here...\n",
    "    \n",
    "    # For each facility in the EPA region...\n",
    "    for facility in facilities:\n",
    "        compliance = facility['Fac3yrComplianceHistory']  # Get its compliance history for the past 12 quarters in the form of \"123456789012\" #V = violation U = unknown S =sign. violation _ = none\n",
    "        format_str = '%m/%d/%Y'\n",
    "        try:\n",
    "            lastInspectionDate = datetime.datetime.strptime(facility[\"FacDateLastInspection\"], format_str) # get the last inspection date. Some facilities have None as a value here - we'll pass them\n",
    "            lastInspectionDays = int(facility['FacDaysLastInspection']) # how many days (a number) since last inspection\n",
    "        except:\n",
    "            pass \n",
    "        if (compliance[0:3] == \"UUU\"): #if the first three quarters in the Obama era were Unknown status, skip this facility because they may not have been permitted at all then, only later.\n",
    "            pass\n",
    "        else: # these are the facilities we'll work with!\n",
    "            t = compliance[8:12] # For this analysis, we measure the Trump era as the most recent 4 quarters\n",
    "            o = compliance[0:4] # The Obama era is the first 4 quarters of the past 12 (as of Nov 2018)\n",
    "            for pos, q in enumerate(t):# for each quarter in Trump era, add the compliance code to our list\n",
    "                codes[\"Q\"+str(pos+9)].append(q)\n",
    "            for pos, q in enumerate(o): \n",
    "                codes[\"Q\"+str(pos+1)].append(q)\n",
    "            inspectionDates.append(lastInspectionDate)\n",
    "            inspectionDays.append(lastInspectionDays)\n",
    "            inspectionsByCodes[compliance[11]].append(lastInspectionDays) # add the days since last inspection based on current compliance status. compliance[11] = 12th quarter in 12 quarter compliance history\n",
    "        # Go to the next facility...\n",
    "    x+=1 # Go to the next EPA region"
   ]
  },
  {
   "cell_type": "code",
   "execution_count": null,
   "metadata": {},
   "outputs": [],
   "source": [
    "# OUTPUT: median or mean number of days since last inspection by compliance category\n",
    "inspectionDates=sorted(inspectionDates)\n",
    "print(\"median last inspection date: \"+ str(median(inspectionDates))) # can't do mean last inspection date\n",
    "print(\"average number of days since inspection: \"+str(mean(inspectionDays)))\n",
    "for code in inspectionsByCodes:\n",
    "    print (code+\": \"+str(mean(inspectionsByCodes[code])))"
   ]
  },
  {
   "cell_type": "code",
   "execution_count": null,
   "metadata": {
    "scrolled": true
   },
   "outputs": [],
   "source": [
    "# OUTPUT: percent of facilities in each compliance category\n",
    "print(\"NTL\")\n",
    "for q in codes:\n",
    "    total=Counter(codes[q])\n",
    "    for code in total:\n",
    "        pct=100*(total[code]/len(codes[q]))\n",
    "        print(code + \" \" + q +\" \"+ str(pct))"
   ]
  }
 ],
 "metadata": {
  "kernelspec": {
   "display_name": "Python 3",
   "language": "python",
   "name": "python3"
  },
  "language_info": {
   "codemirror_mode": {
    "name": "ipython",
    "version": 3
   },
   "file_extension": ".py",
   "mimetype": "text/x-python",
   "name": "python",
   "nbconvert_exporter": "python",
   "pygments_lexer": "ipython3",
   "version": "3.7.0"
  }
 },
 "nbformat": 4,
 "nbformat_minor": 2
}
