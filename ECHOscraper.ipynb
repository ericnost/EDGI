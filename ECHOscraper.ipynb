{
 "cells": [
  {
   "cell_type": "code",
   "execution_count": null,
   "metadata": {
    "scrolled": true
   },
   "outputs": [],
   "source": [
    "#!/usr/bin/env python3\n",
    "# -*- coding: utf-8 -*-\n",
    "\"\"\"\n",
    "Created on Sat Nov 17 14:11:56 2018\n",
    "\n",
    "@author: Eric Nost, Environmental Data and Governance Initiative (EDGI)\n",
    "\"\"\"\n",
    "\n",
    "import requests\n",
    "import csv\n",
    "import json\n",
    "from statistics import *\n",
    "from collections import Counter\n",
    "import datetime"
   ]
  },
  {
   "cell_type": "code",
   "execution_count": null,
   "metadata": {
    "scrolled": true
   },
   "outputs": [],
   "source": [
    "# Prep the data\n",
    "f = {} # save inspection data by facility name"
   ]
  },
  {
   "cell_type": "code",
   "execution_count": null,
   "metadata": {
    "scrolled": true
   },
   "outputs": [],
   "source": [
    "# The main script\n",
    "# Loop through each of the 10 EPA regions and get the ECHO results for compliance information\n",
    "x=1\n",
    "while x < 11:\n",
    "    region=str(x)\n",
    "    if len(region)<2:\n",
    "        region = \"0\"+region\n",
    "    print(\"R\"+region+\"....\") # Print out which region we're currently working on\n",
    "    \n",
    "    # call up ECHO\n",
    "    url=\"https://ofmpub.epa.gov/echo/echo_rest_services.get_facility_info?output=json&p_reg=\"+region+\"&p_act=Y&p_maj=Y&p_med=ALL\"\n",
    "    contents = requests.get(url).content.decode()\n",
    "    obj = json.loads(contents) # Get the results from ECHO and turn them into something Python can work with\n",
    "    \n",
    "    facilities = obj['Results']['Facilities'] # Grab the information on the facilities\n",
    "    region=\"R\"+region # Name the current region\n",
    "    \n",
    "    # Option to break down results by region here...\n",
    "    \n",
    "    # For each facility in the EPA region...\n",
    "    for facility in facilities:\n",
    "        compliance = facility['Fac3yrComplianceHistory']  # Get its compliance history for the past 12 quarters in the form of \"123456789012\" #V = violation U = unknown S =sign. violation _ = none\n",
    "        format_str = '%m/%d/%Y'\n",
    "        if (compliance[0:3] == \"UUU\"): #if the first three quarters in the Obama era were Unknown status, skip this facility because they may not have been permitted at all then, only later.\n",
    "            pass\n",
    "        else: # these are the facilities we'll work with!\n",
    "            f[facility['FacName']]={\"name\":\"\", \"obamaQuarter\":\"\", \"thisQuarter\":\"\", \"codes\":[], \"InformalCount\":0,\"FormalCount\":0,\"lastInspectionDays\":0, \"inspectionsFiveYears\":0, \"InspectionIntervalDeviation\":0}\n",
    "            f[facility['FacName']][\"name\"] = facility['FacName']\n",
    "            t = compliance[8:12] # For this analysis, we measure the Trump era as the most recent 4 quarters (Feb 19)\n",
    "            o = compliance[0:3] # The Obama era is the first 3 quarters of the past 12 (as of Feb 19)\n",
    "            f[facility['FacName']]['thisQuarter']=compliance[10] # = Q11 on zero index = most recent fully-reported quarter (Feb 19)\n",
    "            f[facility['FacName']]['obamaQuarter']=compliance[2] # the last Obama quarter in the data (as of Feb 19) \n",
    "            for pos, q in enumerate(t):# for each quarter in Trump era, add the compliance code to our list\n",
    "                f[facility['FacName']][\"codes\"].append(q) \n",
    "            #for pos, q in enumerate(o): \n",
    "            try:\n",
    "                #inspections\n",
    "                lastInspectionDate = datetime.datetime.strptime(facility[\"FacDateLastInspection\"], format_str) # get the last inspection date. Some facilities have None as a value here - we'll pass them\n",
    "                lastInspectionDays = int(facility['FacDaysLastInspection']) # how many days (a number) since last inspection\n",
    "                inspectionsFiveYears=int(facility[\"FacInspectionCount\"])\n",
    "                \n",
    "                #analysis: is the most recent inspection interval (days to last inspection) longer than the average inspection interval over the past 5 years?\n",
    "                avgInspectionsInterval=1825/inspectionsFiveYears #365*5\n",
    "               \n",
    "                #collate inspections data by facility\n",
    "                f[facility['FacName']][\"lastInspectionDays\"]=lastInspectionDays\n",
    "                f[facility['FacName']][\"inspectionsFiveYears\"]=inspectionsFiveYears\n",
    "                f[facility['FacName']][\"InspectionIntervalDeviation\"]=lastInspectionDays-avgInspectionsInterval\n",
    "                      \n",
    "                #enforcement actions\n",
    "                InformalCount=int(facility['FacInformalCount'])\n",
    "                FormalCount=int(facility['FacFormalActionCount'])\n",
    "                f[facility['FacName']][\"InformalCount\"]=InformalCount\n",
    "                f[facility['FacName']][\"FormalCount\"]=FormalCount\n",
    "                \n",
    "            except:\n",
    "                pass\n",
    "        # Go to the next facility...\n",
    "    x+=1 # Go to the next EPA region"
   ]
  },
  {
   "cell_type": "code",
   "execution_count": null,
   "metadata": {},
   "outputs": [],
   "source": [
    "#select only facilities that have had inspections\n",
    "fac = {k: v for k, v in f.items() if v[\"inspectionsFiveYears\"] > 0} # ~ 200 facilities have no inspections in past 5 years"
   ]
  },
  {
   "cell_type": "code",
   "execution_count": null,
   "metadata": {},
   "outputs": [],
   "source": [
    "#overall compliance rates and differences...\n",
    "SNC_Obama = (len([v['obamaQuarter'] for k, v in fac.items() if v['obamaQuarter'] == \"S\"])/len(fac.items()))*100\n",
    "SNC_Trump = (len([v['thisQuarter'] for k, v in fac.items() if v['thisQuarter'] == \"S\"])/len(fac.items()))*100"
   ]
  },
  {
   "cell_type": "code",
   "execution_count": null,
   "metadata": {},
   "outputs": [],
   "source": [
    "#calculate medians\n",
    "medInspectionDays = median([v[\"lastInspectionDays\"] for k,v in fac.items()])\n",
    "medFormalActions = median([v[\"FormalCount\"] for k,v in fac.items()])\n",
    "medInformalActions = median([v[\"InformalCount\"] for k,v in fac.items()])"
   ]
  },
  {
   "cell_type": "code",
   "execution_count": null,
   "metadata": {},
   "outputs": [],
   "source": [
    "#select facilities < median and report share by compliance category, in/formal actions\n",
    "recentlyInspected = {k: v for k, v in fac.items() if v[\"lastInspectionDays\"] < medInspectionDays}\n",
    "\n",
    "#compliance percents....\n",
    "SNC_RI=(len([v['thisQuarter'] for k,v in recentlyInspected.items() if v['thisQuarter'] == \"S\"])/len(recentlyInspected.items()) ) *100\n",
    "Violation_RI=(len([v['thisQuarter'] for k,v in recentlyInspected.items() if v['thisQuarter'] == \"V\"])/len(recentlyInspected.items()) ) *100\n",
    "NV_RI=(len([v['thisQuarter'] for k,v in recentlyInspected.items() if v['thisQuarter'] == \"_\"])/len(recentlyInspected.items()) ) *100\n",
    "U_RI=(len([v['thisQuarter'] for k,v in recentlyInspected.items() if v['thisQuarter'] == \"U\"])/len(recentlyInspected.items()) ) *100\n",
    "\n",
    "print (\"recently inspected facilities = last inspection was within the median last inspection date. In other words, within \"+str(medInspectionDays)+\" days prior to 2/9/19\") \n",
    "print(\"in significant non-compliance: \"+str(SNC_RI)+\"%\")\n",
    "print(\"in violation: \"+str(Violation_RI)+\"%\")\n",
    "print(\"with no violation: \"+str(NV_RI)+\"%\")\n",
    "print(\"unknown status: \"+str(U_RI)+\"%\")\n",
    "\n",
    "avgFormalActions_RI=mean([v[\"FormalCount\"] for k,v in recentlyInspected.items()])\n",
    "avgInformalActions_RI=mean([v[\"InformalCount\"] for k,v in recentlyInspected.items()])"
   ]
  },
  {
   "cell_type": "code",
   "execution_count": null,
   "metadata": {},
   "outputs": [],
   "source": [
    "#select facilities > median and report share by compliance category, in/formal actions\n",
    "notRecentlyInspected = {k: v for k, v in fac.items() if v[\"lastInspectionDays\"] >= medInspectionDays}\n",
    "\n",
    "SNC_NRI=(len([v['thisQuarter'] for k,v in notRecentlyInspected.items() if v['thisQuarter'] == \"S\"])/len(notRecentlyInspected.items()) ) *100\n",
    "Violation_NRI=(len([v['thisQuarter'] for k,v in notRecentlyInspected.items() if v['thisQuarter'] == \"V\"])/len(notRecentlyInspected.items()) ) *100\n",
    "NV_NRI=(len([v['thisQuarter'] for k,v in notRecentlyInspected.items() if v['thisQuarter'] == \"_\"])/len(notRecentlyInspected.items()) ) *100\n",
    "U_NRI=(len([v['thisQuarter'] for k,v in notRecentlyInspected.items() if v['thisQuarter'] == \"U\"])/len(notRecentlyInspected.items()) ) *100\n",
    "\n",
    "print (\"NOT recently inspected facilities = last inspection was beyond the median last inspection date. In other words, beyond \"+str(medInspectionDays)+\" days prior to 2/9/19\") \n",
    "print(\"in significant non-compliance: \"+str(SNC_NRI)+\"%\")\n",
    "print(\"in violation: \"+str(Violation_NRI)+\"%\")\n",
    "print(\"with no violation: \"+str(NV_NRI)+\"%\")\n",
    "print(\"unknown status: \"+str(U_NRI)+\"%\")\n",
    "\n",
    "avgFormalActions_NRI=mean([v[\"FormalCount\"] for k,v in notRecentlyInspected.items()])\n",
    "avgInformalActions_NRI=mean([v[\"InformalCount\"] for k,v in notRecentlyInspected.items()])"
   ]
  },
  {
   "cell_type": "code",
   "execution_count": null,
   "metadata": {},
   "outputs": [],
   "source": [
    "#report differences between recently and not recently inspected. NOT percent \"change\"\n",
    "SNCdiff = (abs(SNC_NRI-SNC_RI)/((SNC_NRI+SNC_RI)/2))*100\n",
    "Vdiff= (abs(Violation_NRI-Violation_RI)/((Violation_NRI+Violation_RI)/2))*100\n",
    "NVdiff= (abs(NV_NRI-NV_RI)/((NV_NRI+NV_RI)/2))*100\n",
    "Udiff= (abs(U_NRI-U_RI)/((U_NRI+U_RI)/2))*100\n",
    "FAdiff=(abs(avgFormalActions_NRI-avgFormalActions_RI)/((avgFormalActions_NRI+avgFormalActions_RI)/2))*100\n",
    "IAdiff=(abs(avgInformalActions_NRI-avgInformalActions_RI)/((avgInformalActions_NRI+avgInformalActions_RI)/2))*100\n",
    "\n",
    "print(\"percent difference in SNC rates: \"+str(SNCdiff)+\"%\")\n",
    "print(\"percent difference in Violation rates: \"+str(Vdiff)+\"%\")\n",
    "print(\"percent difference in No Violation rates: \"+str(NVdiff)+\"%\")\n",
    "print(\"percent difference in Unknown rates: \"+str(Udiff)+\"%\")\n",
    "print(\"percent difference in average # of formal actions: \"+str(FAdiff)+\"%\")\n",
    "print(\"percent difference in average # of informal actions: \"+str(IAdiff)+\"%\")"
   ]
  },
  {
   "cell_type": "code",
   "execution_count": null,
   "metadata": {},
   "outputs": [],
   "source": [
    "#report % of facilities with greater than expected inspection interval (>0)\n",
    "percentWithInspectionsOutOfDate=(len([v[\"InspectionIntervalDeviation\"] for k,v in fac.items() if v[\"InspectionIntervalDeviation\"] > 0]) / len(fac.items()) ) * 100\n",
    "print(\"percent of facilities that haven't been inspected in more than their typical interval: \"+str(percentWithInspectionsOutOfDate)+\"%\")"
   ]
  },
  {
   "cell_type": "code",
   "execution_count": null,
   "metadata": {},
   "outputs": [],
   "source": [
    "# OUTPUT: spreadsheet of compliance categories by facility\n",
    "with open(\"ECHOscraper.csv\", \"w\", encoding='utf-8') as outfile:\n",
    "    writer = csv.writer(outfile)\n",
    "    for key, value in f.items():\n",
    "        try:\n",
    "            writer.writerow([key, value[\"codes\"][0], value[\"codes\"][1], value[\"codes\"][2], value[\"codes\"][3], value[\"lastInspectionDays\"], value[\"inspectionsFiveYears\"], value[\"InspectionIntervalDeviation\"]])\n",
    "        except IndexError:\n",
    "            writer.writerow([key, \"ERROR\"])\n",
    "outfile.close()"
   ]
  }
 ],
 "metadata": {
  "kernelspec": {
   "display_name": "Python 3",
   "language": "python",
   "name": "python3"
  },
  "language_info": {
   "codemirror_mode": {
    "name": "ipython",
    "version": 3
   },
   "file_extension": ".py",
   "mimetype": "text/x-python",
   "name": "python",
   "nbconvert_exporter": "python",
   "pygments_lexer": "ipython3",
   "version": "3.7.0"
  }
 },
 "nbformat": 4,
 "nbformat_minor": 2
}
