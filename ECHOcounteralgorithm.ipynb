{
 "cells": [
  {
   "cell_type": "code",
   "execution_count": 1,
   "metadata": {
    "scrolled": true
   },
   "outputs": [],
   "source": [
    "#!/usr/bin/env python3\n",
    "# -*- coding: utf-8 -*-\n",
    "\"\"\"\n",
    "Created on Sat Jun 29 11:11:56 2019\n",
    "\n",
    "@author: Eric Nost, Environmental Data and Governance Initiative (EDGI)\n",
    "\"\"\"\n",
    "\n",
    "import requests\n",
    "import csv\n",
    "import json\n",
    "from statistics import *\n",
    "from collections import Counter\n",
    "import datetime"
   ]
  },
  {
   "cell_type": "code",
   "execution_count": 2,
   "metadata": {
    "scrolled": true
   },
   "outputs": [],
   "source": [
    "# Prep the data\n",
    "f = [] # save inspection data by facility name"
   ]
  },
  {
   "cell_type": "code",
   "execution_count": 3,
   "metadata": {
    "scrolled": true
   },
   "outputs": [
    {
     "name": "stdout",
     "output_type": "stream",
     "text": [
      "R01....\n",
      "R02....\n",
      "R03....\n",
      "R04....\n",
      "R05....\n",
      "R06....\n",
      "R07....\n",
      "R08....\n",
      "R09....\n",
      "R10....\n"
     ]
    }
   ],
   "source": [
    "# The main script\n",
    "# Loop through each of the 10 EPA regions and get the ECHO results for compliance information\n",
    "x=1\n",
    "while x < 11:\n",
    "    region=str(x)\n",
    "    if len(region)<2:\n",
    "        region = \"0\"+region\n",
    "    print(\"R\"+region+\"....\") # Print out which region we're currently working on\n",
    "    \n",
    "    # call up ECHO\n",
    "    url=\"https://ofmpub.epa.gov/echo/echo_rest_services.get_facility_info?output=json&p_reg=\"+region+\"&p_act=Y&p_maj=Y&p_med=W\"\n",
    "    contents = requests.get(url).content.decode()\n",
    "    obj = json.loads(contents) # Get the results from ECHO and turn them into something Python can work with\n",
    "    \n",
    "    facilities = obj['Results']['Facilities'] # Grab the information on the facilities\n",
    "    \n",
    "    for facility in facilities:\n",
    "        f.append(facility['RegistryID'])\n",
    "        # Go to the next facility...\n",
    "        \n",
    "    x+=1 # Go to the next EPA region"
   ]
  },
  {
   "cell_type": "code",
   "execution_count": 42,
   "metadata": {},
   "outputs": [],
   "source": [
    "# Python3 program for Naive Pattern \n",
    "# Searching algorithm\n",
    "flagged=[]\n",
    "def search(pat, txt): \n",
    "\tM = len(pat) \n",
    "\tN = len(txt) \n",
    "\n",
    "\t# A loop to slide pat[] one by one */ \n",
    "\tfor i in range(N - M + 1): \n",
    "\t\tj = 0\n",
    "\t\t\n",
    "\t\t# For current index i, check \n",
    "\t\t# for pattern match */ \n",
    "\t\tfor j in range(0, M): \n",
    "\t\t\tif (txt[i + j] != pat[j]): \n",
    "\t\t\t\tbreak\n",
    "\n",
    "\t\tif (j == M - 1): \n",
    "\t\t\tprint(\"Pattern found at index \", i)\n",
    "\t\t\tflagged.append(fid)\n",
    "\n",
    "# This code is contributed \n",
    "# by PrinciRaj1992 "
   ]
  },
  {
   "cell_type": "code",
   "execution_count": null,
   "metadata": {},
   "outputs": [
    {
     "name": "stdout",
     "output_type": "stream",
     "text": [
      "CCCCCCCCCCCCCCCCCCCCCCCCCCCCCCCCCCCCCCC\n",
      "CCCCCCCCCCCCCCCCCCCCNCCCCCCCCCCCCCCCCCC\n",
      "CCCCCCCNCCCCCCCCCCCCCCCCCCCCCCCCCCCCCCC\n",
      "CCCCCCCNCCCCCCCCCCCCCCCCCCCCCCCCCCCCCCC\n",
      "CCCCCCCCCCCCCNCCCCCCCCCCCCCCCCCCCCCCCCC\n",
      "CCCCCCCNNCCCCCCCCCCCCCCCCCCCCCCCCCCCCCC\n",
      "CCCCCCCNCCCCCCCCCCCCCCCCCCCCCCCCCCCCCCC\n",
      "CCCCCCCNCCCCCCCCCCCCCCCCCCCCCCCCCCCCCCC\n",
      "CCCCCCCCCCCCCCCCCCCCCCCCCCCCCCCCCCCCCCC\n",
      "CCCCCCCCCCCCCCCCCCCCCCCCCCCCCCCCNCCCCCC\n",
      "CCCCCCCCCCCCCCCCCCCCCCCCCCCCCCCCCCCCCCC\n",
      "CCCCCNCCCCCCCCCCCCCCCCCCCCCCCCCCCCCCCCC\n",
      "CCCCCCCCNCCCCCCCCCCCCCCCCCCCCCCCCCCCCCC\n",
      "CCCCCNCCCCCCCCCCCCCCCCCCCCCCCCCCCCCCCCC\n",
      "CCCCCCCCCCNCCCCCNCCCCCCCCCCCCCCCCCCCCCC\n",
      "CCCCCCCCCCCCCCCCNCCCCCCCCCCCCCCCCCCCCCC\n",
      "CCNCCCCCCCCCCCCCCCCCCCCCCCCCCCCCCCCCCCC\n",
      "CCCNCCCCCCCCCCCCCCCCCCCCCCCCCCCCCCCCCCC\n",
      "CCCCCCCCCCCCCCNCCCCCCCCCCCCCCCCCCCCCCCC\n",
      "CCCCCCCCCCCCCCCCCCCCCCCCCCCCCNCCCCCCCCC\n",
      "CCCCCCCCCCCCCCCCCCCCCCCCCCCCCNCCCCCCCCC\n",
      "CCCCCCCCCCCCCCCCCCCNNCCCCCCCCCCCCCCCCCC\n",
      "CCCCCCCCCCCCCCCCCCCCCCCCCCCCCCNCCCCCCCC\n",
      "CCCCCCCNCCCCCCCCCCCCCCCNCCCCCCCCCCCCCCC\n",
      "CCCCCCCNCCCCCCCCCCCCCCCNCCCCCCCNCCCCCCC\n",
      "CCCCCCCCCCCCCCCCCCCCCCCCCCCCCCCCCCNCCCC\n",
      "CCCCCCCCCCCCCCCCCCCCCCCCCCCCCCCCCCNCCCC\n",
      "CCCCCCCCCCCCCCCCCCCCCCCCNCCCCCCCCCCCCCC\n",
      "CCCCCCCCCCCCCCCCCCCCCCCCNCCCCCCCCCCCCCC\n",
      "CCCCCCCCCCCCCCCCCCCCCCCCNCCCCCCCCCCCCCC\n",
      "CCCCCCCCCCCCCCCCCCCCCCCNCCCCCCCCCCCCCCC\n",
      "CCCCCCCCCCCCCCCCCCCCCCCNCCCCCCCCCCCCCCC\n",
      "CNCCCCCCCCCCCCCCCCCCCCCCCCCCCCCCCCCCCCC\n",
      "CCCCCCCCCCCCCCCCCCNCCCCCCCCCCCCCCCCCCCC\n",
      "CCCCCCCCCCCCCCCCCCCCCCCNCCCCCCCCCCCCCCC\n",
      "CCCCCCCCCCCCCCCCCCCCCCCCCCCCCCCCCCCCNCC\n",
      "CCCCCCCCCCCCCCCCCCCCCCCCNNNNCCCCCCCCCCC\n",
      "CCCCCCCCCCCCCCCCCCCCCCCCCCCCCCCNCCCCCCC\n",
      "CCCCCCCCCCCCCCCCCCCCCCCCCCNCCCCCCCCCCCC\n",
      "CCCCCCCCCCCCNCCNNCCCCCCCNNCNCCCCCCCCNNC\n",
      "CCCCCCCCCCCCCCCCCCCCCCCCCCCCCCCCCCCCCCC\n",
      "CCCCCCCCCCCCCCCCCCNCCCCCCCCCCCCCCCCCCCC\n",
      "CCCCCCCCCCCCCCCCCCCCCCCCCCCCCCCCCCCCCCC\n"
     ]
    }
   ],
   "source": [
    "#look up each facility's CWA monthly violations\n",
    "for fid in f: #test on one or a few facilities eg 110032893661\n",
    "    # call up ECHO\n",
    "    url=\"https://ofmpub.epa.gov/echo/dfr_rest_services.get_cwa_eff_compliance?output=JSON&p_id=\"+fid\n",
    "    contents = requests.get(url).content.decode()\n",
    "    obj = json.loads(contents) # Get the results from ECHO and turn them into something Python can work with\n",
    "    try:\n",
    "        if obj['Results'][\"CWAEffluentCompliance\"][\"Sources\"]:\n",
    "\n",
    "        #go through parameters\n",
    "            for s in obj['Results'][\"CWAEffluentCompliance\"][\"Sources\"]: #Not sure why there would be multiple sources\n",
    "                for p in s['Parameters']:\n",
    "                    #print(p['ParameterName'])\n",
    "                    statuses=\"\"\n",
    "                    x=1\n",
    "                    while x<40: #loop through 39 months of data\n",
    "                        code=\"Mnth\"+str(x)+\"Value\"\n",
    "                        if p[code] is not None and \"%\" in p[code]: #is not None\n",
    "                            statuses = statuses + \"N\"#statuses.append(x)\n",
    "                        else:\n",
    "                            statuses = statuses + \"C\"\n",
    "                        x+=1\n",
    "                    print(statuses)\n",
    "                    #check for suspicious patterns here and send to flagged\n",
    "                    search(\"NNNNNCN\", statuses)\n",
    "    except:\n",
    "        pass"
   ]
  },
  {
   "cell_type": "code",
   "execution_count": 44,
   "metadata": {},
   "outputs": [
    {
     "name": "stdout",
     "output_type": "stream",
     "text": [
      "[]\n"
     ]
    }
   ],
   "source": [
    "print(flagged)"
   ]
  },
  {
   "cell_type": "code",
   "execution_count": null,
   "metadata": {},
   "outputs": [],
   "source": []
  }
 ],
 "metadata": {
  "kernelspec": {
   "display_name": "Python 3",
   "language": "python",
   "name": "python3"
  },
  "language_info": {
   "codemirror_mode": {
    "name": "ipython",
    "version": 3
   },
   "file_extension": ".py",
   "mimetype": "text/x-python",
   "name": "python",
   "nbconvert_exporter": "python",
   "pygments_lexer": "ipython3",
   "version": "3.7.3"
  }
 },
 "nbformat": 4,
 "nbformat_minor": 2
}
