{
 "cells": [
  {
   "cell_type": "code",
   "execution_count": null,
   "metadata": {
    "scrolled": true
   },
   "outputs": [],
   "source": [
    "#!/usr/bin/env python3\n",
    "# -*- coding: utf-8 -*-\n",
    "\"\"\"\n",
    "Created on Sat Jun 29 11:11:56 2019\n",
    "\n",
    "@author: Eric Nost, Environmental Data and Governance Initiative (EDGI)\n",
    "\"\"\"\n",
    "\n",
    "import requests\n",
    "import csv\n",
    "import json\n",
    "from statistics import *\n",
    "from collections import Counter\n",
    "import datetime"
   ]
  },
  {
   "cell_type": "code",
   "execution_count": null,
   "metadata": {
    "scrolled": true
   },
   "outputs": [],
   "source": [
    "# Prep the data\n",
    "f = [] # save inspection data by facility name"
   ]
  },
  {
   "cell_type": "code",
   "execution_count": null,
   "metadata": {
    "scrolled": true
   },
   "outputs": [],
   "source": [
    "# The main script\n",
    "# Loop through each of the 10 EPA regions and get the ECHO results for compliance information\n",
    "x=1\n",
    "while x < 11:\n",
    "    region=str(x)\n",
    "    if len(region)<2:\n",
    "        region = \"0\"+region\n",
    "    print(\"R\"+region+\"....\") # Print out which region we're currently working on\n",
    "    \n",
    "    # call up ECHO\n",
    "    url=\"https://ofmpub.epa.gov/echo/echo_rest_services.get_facility_info?output=json&p_reg=\"+region+\"&p_act=Y&p_maj=Y&p_med=W\"\n",
    "    contents = requests.get(url).content.decode()\n",
    "    obj = json.loads(contents) # Get the results from ECHO and turn them into something Python can work with\n",
    "    \n",
    "    facilities = obj['Results']['Facilities'] # Grab the information on the facilities\n",
    "    \n",
    "    for facility in facilities:\n",
    "        f.append(facility['RegistryID'])\n",
    "        # Go to the next facility...\n",
    "        \n",
    "    x+=1 # Go to the next EPA region"
   ]
  },
  {
   "cell_type": "code",
   "execution_count": null,
   "metadata": {},
   "outputs": [],
   "source": [
    "#look up each facility's CWA monthly violations\n",
    "for fid in f[0:100]: #test on one or a few facilities 110032893661\n",
    "    # call up ECHO\n",
    "    url=\"https://ofmpub.epa.gov/echo/dfr_rest_services.get_cwa_eff_compliance?output=JSON&p_id=\"+fid\n",
    "    contents = requests.get(url).content.decode()\n",
    "    obj = json.loads(contents) # Get the results from ECHO and turn them into something Python can work with\n",
    "        "
   ]
  },
  {
   "cell_type": "code",
   "execution_count": null,
   "metadata": {
    "scrolled": false
   },
   "outputs": [],
   "source": [
    "flagged=[]\n",
    "\n",
    "#do error checking here\n",
    "if obj['Results'][\"CWAEffluentCompliance\"][\"Sources\"]:\n",
    "\n",
    "    #go through parameters\n",
    "    for s in obj['Results'][\"CWAEffluentCompliance\"][\"Sources\"]: #Not sure why there would be multiple sources\n",
    "        for p in s['Parameters']:\n",
    "            print(p['ParameterName'])\n",
    "            statuses=[]\n",
    "            x=1\n",
    "            while x<40: #loop through 39 months of data\n",
    "                code=\"Mnth\"+str(x)+\"Value\"\n",
    "                if p[code] is not None:\n",
    "                    statuses.append(x)\n",
    "                x+=1\n",
    "            print(statuses)\n",
    "            #check for suspicious patterns here and send to flagged"
   ]
  }
 ],
 "metadata": {
  "kernelspec": {
   "display_name": "Python 3",
   "language": "python",
   "name": "python3"
  },
  "language_info": {
   "codemirror_mode": {
    "name": "ipython",
    "version": 3
   },
   "file_extension": ".py",
   "mimetype": "text/x-python",
   "name": "python",
   "nbconvert_exporter": "python",
   "pygments_lexer": "ipython3",
   "version": "3.7.0"
  }
 },
 "nbformat": 4,
 "nbformat_minor": 2
}
