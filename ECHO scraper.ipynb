{
 "cells": [
  {
   "cell_type": "code",
   "execution_count": null,
   "metadata": {
    "scrolled": true
   },
   "outputs": [],
   "source": [
    "#!/usr/bin/env python3\n",
    "# -*- coding: utf-8 -*-\n",
    "\"\"\"\n",
    "Created on Sat Nov 17 14:11:56 2018\n",
    "\n",
    "@author: Eric\n",
    "\"\"\"\n",
    "\n",
    "import requests\n",
    "import csv\n",
    "import json\n",
    "from statistics import *\n",
    "from collections import Counter"
   ]
  },
  {
   "cell_type": "code",
   "execution_count": null,
   "metadata": {
    "scrolled": true
   },
   "outputs": [],
   "source": [
    "#prep the outputs\n",
    "obama={'timeNV':{},\n",
    "'timeSNC':{},\n",
    "'timeV':{},\n",
    "'timeU':{},\n",
    "'codes':{},\n",
    "'count':{}\n",
    "}\n",
    "trump={'timeNV':{},\n",
    "'timeSNC':{},\n",
    "'timeV':{},\n",
    "'timeU':{},\n",
    "'codes':{},\n",
    "'count':{}\n",
    "}"
   ]
  },
  {
   "cell_type": "code",
   "execution_count": null,
   "metadata": {
    "scrolled": true
   },
   "outputs": [],
   "source": [
    "# The main script\n",
    "# Loop through each EPA region and get the ECHO results for compliance information\n",
    "x=1\n",
    "while x < 11:\n",
    "    region=str(x)\n",
    "    if len(region)<2:\n",
    "        region = \"0\"+region\n",
    "    print(region) # Print out which region we're currently working on\n",
    "    \n",
    "    url=\"https://ofmpub.epa.gov/echo/echo_rest_services.get_facility_info?output=json&p_reg=\"+region+\"&p_act=Y&p_maj=Y&p_med=ALL\"\n",
    "    contents = requests.get(url).content.decode()\n",
    "    obj = json.loads(contents) # Get the results from ECHO and turn them into something Python can work with\n",
    "    \n",
    "    facilities = obj['Results']['Facilities'] # Grab the information on the facilities\n",
    "    region=\"R\"+region # Name the current region\n",
    "    \n",
    "    # Set up the data a bit more\n",
    "    for key in obama:\n",
    "        obama[key][region]=[]\n",
    "        trump[key][region]=[]\n",
    "    obama['count'][region]=0\n",
    "    trump['count'][region]=0\n",
    "    \n",
    "    # For each facility in the EPA region...\n",
    "    for facility in facilities:\n",
    "         compliance = facility['Fac3yrComplianceHistory']  # Get its compliance history for the past 12 quarters in the form of \"123456789012\" #V = violation U = unknown S =sign. violation _ = none\n",
    "         if (compliance[0:3] == \"UUU\"): #if the first three quarters in the Obama era were Unknown status, skip because they may not have been permitted at all then, only later.\n",
    "             pass\n",
    "         else:\n",
    "             #print(compliance)\n",
    "                \n",
    "             t = compliance[8:12] # For this analysis, we measure the Trump era as the most recent 4 quarters\n",
    "             o = compliance[0:4] # The Obama era is the first 4 quarters of the past 12 (as of Nov 2018)\n",
    "                \n",
    "             # Measure the percent of time (number of quarters) the facility spent in each compliance category\n",
    "             trump['timeNV'][region].append(t.count(\"_\")/4)# No violation\n",
    "             trump['timeSNC'][region].append(t.count(\"S\")/4) # Significant non compliance\n",
    "             trump['timeV'][region].append(t.count(\"V\")/4) # Violation\n",
    "             trump['timeU'][region].append(t.count(\"U\")/4) # Unknown status\n",
    "             trump['codes'][region].append(compliance[10]) #Quarter 11 For purposes of measuring the percent of facilities in a compliance category at any given time (rather than the percent of time each one spent in each category) we use Q10 for Trump, Q2 for Obama (summer 2016/2018)\n",
    "             trump['count'][region]+=1 \n",
    "             \n",
    "             # Measure the percent of time (number of quarters) the facility spent in each compliance category\n",
    "             obama['timeNV'][region].append(o.count(\"_\")/4)\n",
    "             obama['timeSNC'][region].append(o.count(\"S\")/4)\n",
    "             obama['timeV'][region].append(o.count(\"V\")/4)\n",
    "             obama['timeU'][region].append(o.count(\"U\")/4)\n",
    "             obama['codes'][region].append(compliance[2]) #Quarter 3\n",
    "             obama['count'][region]+=1\n",
    "        # Go to the next facility...\n",
    "    x+=1 # Go to the next EPA region"
   ]
  },
  {
   "cell_type": "code",
   "execution_count": null,
   "metadata": {
    "scrolled": true
   },
   "outputs": [],
   "source": [
    "# OUTPUT: percent of facilities in each compliance category (Quarter 3 vs Quarter 11)\n",
    "print(\"OBAMA\")\n",
    "for region in obama['codes']:\n",
    "    total=Counter(obama['codes'][region])\n",
    "    for key in total:\n",
    "        pct=100*(total[key]/len(obama['codes'][region]))\n",
    "        print(region +\" \"+ key +\" \"+ str(pct))\n",
    "print(\"TRUMP\")\n",
    "for region in trump['codes']:\n",
    "    total=Counter(trump['codes'][region])\n",
    "    for key in total:\n",
    "        pct=100*(total[key]/len(trump['codes'][region]))\n",
    "        print(region +\" \"+ key +\" \"+ str(pct))"
   ]
  },
  {
   "cell_type": "code",
   "execution_count": null,
   "metadata": {
    "scrolled": true
   },
   "outputs": [],
   "source": [
    "#OUTPUT: for each region, print out the average amount of time facilities spent in each compliance category (as %)\n",
    "for key in obama:\n",
    "    if (key == 'count') or (key=='codes'):\n",
    "        pass\n",
    "    else:\n",
    "        for region in obama[key]:\n",
    "            m = mean(obama[key][region])*100\n",
    "            print (\"OBAMA \"+region+\" \"+str(key)+\" \"+str(m))\n",
    "for key in trump:\n",
    "    if (key == 'count') or (key=='codes'):\n",
    "        pass\n",
    "    else:\n",
    "        for region in trump[key]:\n",
    "            m = mean(trump[key][region])*100\n",
    "            print (\"TRUMP \"+region+\" \"+str(key)+\" \"+str(m))"
   ]
  },
  {
   "cell_type": "code",
   "execution_count": null,
   "metadata": {
    "scrolled": true
   },
   "outputs": [],
   "source": [
    "# Calculate mean percent of time facilities spent in each compliance status nationally rather than by region          \n",
    "ntl={\"obama\": {}, \"trump\": {}}\n",
    "for key in obama:\n",
    "    if (key != 'count') and (key != 'codes'):\n",
    "        ntl['obama'][key]=[]\n",
    "        for region in obama[key]:\n",
    "            for val in obama[key][region]:\n",
    "                ntl['obama'][key].append(val)\n",
    "for key in trump:\n",
    "    if (key != 'count') and (key != 'codes'): \n",
    "        ntl['trump'][key]=[]\n",
    "        for region in trump[key]:\n",
    "            for value in trump[key][region]:\n",
    "                ntl['trump'][key].append(value)\n",
    "                \n",
    "# Print results from above ^^^              \n",
    "for key in ntl['obama']:\n",
    "    m=mean(ntl['obama'][key])*100\n",
    "    print (\"OBAMA \"+str(key)+\" \"+str(m))\n",
    "    \n",
    "for key in ntl['trump']:\n",
    "    m=mean(ntl['trump'][key])*100\n",
    "    print (\"trump \"+str(key)+\" \"+str(m))"
   ]
  }
 ],
 "metadata": {
  "kernelspec": {
   "display_name": "Python 3",
   "language": "python",
   "name": "python3"
  },
  "language_info": {
   "codemirror_mode": {
    "name": "ipython",
    "version": 3
   },
   "file_extension": ".py",
   "mimetype": "text/x-python",
   "name": "python",
   "nbconvert_exporter": "python",
   "pygments_lexer": "ipython3",
   "version": "3.7.0"
  }
 },
 "nbformat": 4,
 "nbformat_minor": 2
}
