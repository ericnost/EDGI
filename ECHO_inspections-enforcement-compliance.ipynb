{
 "cells": [
  {
   "cell_type": "markdown",
   "metadata": {},
   "source": [
    "## Looking at trends in environmental compliance, inspections, and enforcement\n",
    "This notebook draws on data in ECHO to compare EPA regions in terms of compliance, inspections, and enforcements, across all programs (Clean Water Act, Clean Air Act, and the Resource Conservation and Recovery Act).\n",
    "\n",
    "We will be asking:\n",
    "- Are more recently inspected facilities more likely to be out of compliance?\n",
    "- Have compliance and inspection trends declined? _TBD_"
   ]
  },
  {
   "cell_type": "markdown",
   "metadata": {},
   "source": [
    "---"
   ]
  },
  {
   "cell_type": "markdown",
   "metadata": {},
   "source": [
    "### First, let's import some libraries"
   ]
  },
  {
   "cell_type": "code",
   "execution_count": null,
   "metadata": {
    "scrolled": true
   },
   "outputs": [],
   "source": [
    "import requests\n",
    "import csv\n",
    "import json\n",
    "from statistics import *\n",
    "from collections import Counter\n",
    "import datetime\n",
    "\n",
    "import urllib.parse\n",
    "import pandas as pd\n",
    "import numpy as np\n",
    "import matplotlib.pyplot as plt\n",
    "%matplotlib inline\n",
    "import folium"
   ]
  },
  {
   "cell_type": "markdown",
   "metadata": {},
   "source": [
    "### Next, we'll prepare for our analysis\n",
    "We'll go through each EPA region (there are 10) covering the country, and pull basic enforcement, inspections, and compliance data for each major facility regulated within that region. "
   ]
  },
  {
   "cell_type": "code",
   "execution_count": null,
   "metadata": {},
   "outputs": [],
   "source": [
    "sql = \"select REGISTRY_ID, FAC_NAME, FAC_LAT, FAC_LONG, FAC_3YR_COMPLIANCE_HISTORY,\" + \\\n",
    "    \" FAC_INFORMAL_COUNT, FAC_FORMAL_ACTION_COUNT,\" + \\\n",
    "    \" FAC_DAYS_LAST_INSPECTION, FAC_DATE_LAST_INSPECTION, FAC_INSPECTION_COUNT\" + \\\n",
    "    \" from ECHO_EXPORTER where FAC_MAJOR_FLAG = 'Y'\" #where \\\n",
    "    #\" FAC_EPA_REGION  = 3 \"\n",
    "url='http://apps.tlt.stonybrook.edu/echoepa/?query='\n",
    "data_location=url+urllib.parse.quote(sql)\n",
    "\n",
    "data = pd.read_csv(data_location, encoding='iso-8859-1', header = 0)\n",
    "data.set_index(\"REGISTRY_ID\", inplace=True)\n",
    "data"
   ]
  },
  {
   "cell_type": "markdown",
   "metadata": {},
   "source": [
    "### How many facilities are we talking about?"
   ]
  },
  {
   "cell_type": "code",
   "execution_count": null,
   "metadata": {},
   "outputs": [],
   "source": [
    "data.shape[0]"
   ]
  },
  {
   "cell_type": "markdown",
   "metadata": {},
   "source": [
    "### Now we dive in. Our question: Are more recently inspected facilities more likely to be out of compliance?\n",
    "We'll start parsing the data by timeframe, for more detailed analysis later on. First, we'll select only facilities that have had inspections over the past five years. Some haven't!"
   ]
  },
  {
   "cell_type": "code",
   "execution_count": null,
   "metadata": {},
   "outputs": [],
   "source": [
    "inspected = data[(data[\"FAC_INSPECTION_COUNT\"] > 0)]\n",
    "print(str(data.shape[0]-inspected.shape[0])+\" facilities haven't had inspections in the past five years.\")"
   ]
  },
  {
   "cell_type": "markdown",
   "metadata": {},
   "source": [
    "### Here we'll focus in on facilities that have been more recently inspected \n",
    "We define that as having gone fewer days since inspection than the median of all facilities)\n",
    "\n",
    "When we look at compliance, we are looking at Quarter 10 of EPA's dataset. This is a relative definition, Quarter 10 being 2 quarters ago (i.e. Oct-Dec 2019)"
   ]
  },
  {
   "cell_type": "code",
   "execution_count": null,
   "metadata": {},
   "outputs": [],
   "source": [
    "medInspectionDays = inspected[\"FAC_DAYS_LAST_INSPECTION\"].median()\n",
    "recentlyInspected = inspected[(inspected['FAC_DAYS_LAST_INSPECTION']) < medInspectionDays]\n",
    "\n",
    "# Percents of facilities - compliance alongside inspections....based on quarter 10 in ECHO data (could adjust)\n",
    "SNC_RI=(recentlyInspected[(recentlyInspected['FAC_3YR_COMPLIANCE_HISTORY'].str[9:10:1] == \"S\")].shape[0] /  recentlyInspected.shape[0] ) * 100\n",
    "Violation_RI=(recentlyInspected[(recentlyInspected['FAC_3YR_COMPLIANCE_HISTORY'].str[9:10:1] == \"V\")].shape[0] /  recentlyInspected.shape[0] ) * 100\n",
    "NV_RI=(recentlyInspected[(recentlyInspected['FAC_3YR_COMPLIANCE_HISTORY'].str[9:10:1] == \"_\")].shape[0] /  recentlyInspected.shape[0] ) * 100\n",
    "U_RI=(recentlyInspected[(recentlyInspected['FAC_3YR_COMPLIANCE_HISTORY'].str[9:10:1] == \"U\")].shape[0] /  recentlyInspected.shape[0] ) * 100\n",
    "\n",
    "avgFormalActions_RI=recentlyInspected['FAC_FORMAL_ACTION_COUNT'].mean()\n",
    "avgInformalActions_RI=recentlyInspected['FAC_INFORMAL_COUNT'].mean()\n",
    "\n",
    "print(\"RECENTLY INSPECTED FACILITIES: those who last inspection was within the median last inspection date of all facilities. That is, within \"+str(medInspectionDays)+\" days prior to when SBU's copy of ECHO was last updated\") \n",
    "print(\"Facilities in significant non-compliance: \"+str(round(SNC_RI,2))+\"%\")\n",
    "print(\"Facilities in violation: \"+str(round(Violation_RI,2))+\"%\")\n",
    "print(\"Facilities with no violation: \"+str(round(NV_RI,2))+\"%\")\n",
    "print(\"Facilities unknown status: \"+str(round(U_RI,2))+\"%\")"
   ]
  },
  {
   "cell_type": "markdown",
   "metadata": {},
   "source": [
    "### What about those facilities that have NOT been recently inspected \n",
    "We define that as having gone MORE days since inspection than the median of all facilities"
   ]
  },
  {
   "cell_type": "code",
   "execution_count": null,
   "metadata": {},
   "outputs": [],
   "source": [
    "notRecentlyInspected = inspected[(inspected['FAC_DAYS_LAST_INSPECTION']) > medInspectionDays]\n",
    "\n",
    "# Percents of facilities - compliance alongside inspections....based on quarter 10 in ECHO data (could adjust '9:10:1' below to get some other quarter)\n",
    "SNC_NRI= (notRecentlyInspected[(notRecentlyInspected['FAC_3YR_COMPLIANCE_HISTORY'].str[9:10:1] == \"S\")].shape[0] /  recentlyInspected.shape[0] ) * 100\n",
    "Violation_NRI=(notRecentlyInspected[(notRecentlyInspected['FAC_3YR_COMPLIANCE_HISTORY'].str[9:10:1] == \"V\")].shape[0] /  recentlyInspected.shape[0] ) * 100\n",
    "NV_NRI=(notRecentlyInspected[(notRecentlyInspected['FAC_3YR_COMPLIANCE_HISTORY'].str[9:10:1] == \"_\")].shape[0] /  recentlyInspected.shape[0] ) * 100\n",
    "U_NRI=(notRecentlyInspected[(notRecentlyInspected['FAC_3YR_COMPLIANCE_HISTORY'].str[9:10:1] == \"U\")].shape[0] /  recentlyInspected.shape[0] ) * 100\n",
    "\n",
    "avgFormalActions_NRI=notRecentlyInspected['FAC_FORMAL_ACTION_COUNT'].mean()\n",
    "avgInformalActions_NRI=notRecentlyInspected['FAC_INFORMAL_COUNT'].mean()\n",
    "\n",
    "print(\"NOT RECENTLY INSPECTED FACILITIES: those who last inspection was beyond the median last inspection date of all facilities. That is, greater than \"+str(medInspectionDays)+\" days prior to when SBU's copy of ECHO was last updated\") \n",
    "print(\"Facilities in significant non-compliance: \"+str(round(SNC_NRI,2))+\"%\")\n",
    "print(\"Facilities in violation: \"+str(round(Violation_NRI,2))+\"%\")\n",
    "print(\"Facilities with no violation: \"+str(round(NV_NRI,2))+\"%\")\n",
    "print(\"Facilities unknown status: \"+str(round(U_NRI,2))+\"%\")"
   ]
  },
  {
   "cell_type": "markdown",
   "metadata": {},
   "source": [
    "### Let's now summarize some differences between recently and not recently inspected facilities, in terms of their compliance rates and the enforcement actions EPA and state agencies have taken.\n",
    "Are more recently inspected facilities more likely to be out of compliance? (Because someone went and looked?)"
   ]
  },
  {
   "cell_type": "code",
   "execution_count": null,
   "metadata": {},
   "outputs": [],
   "source": [
    "SNCdiff = (SNC_RI-SNC_NRI)/((SNC_NRI+SNC_RI)/2)*100\n",
    "Vdiff= (Violation_RI-Violation_NRI)/((Violation_NRI+Violation_RI)/2)*100\n",
    "NVdiff= (NV_RI-NV_NRI)/((NV_NRI+NV_RI)/2)*100\n",
    "Udiff= (U_RI-U_NRI)/((U_NRI+U_RI)/2)*100\n",
    "FAdiff=(avgFormalActions_RI-avgFormalActions_NRI)/((avgFormalActions_NRI+avgFormalActions_RI)/2)*100\n",
    "IAdiff=(avgInformalActions_RI-avgInformalActions_NRI)/((avgInformalActions_NRI+avgInformalActions_RI)/2)*100\n",
    "\n",
    "print(\"There are \"+str(round(SNCdiff,2))+\"% more recently inspected facilities in SNC than not recently inspected facilities\")\n",
    "print(\"There are \"+str(round(Vdiff,2))+\"% more recently inspected facilities with violations than not recently inspected facilities\")\n",
    "print(\"There are \"+str(round(NVdiff,2))+\"% more recently inspected facilities in with no violation than not recently inspected facilities\")\n",
    "\n",
    "print(\"Facilities more recently inspected have \"+str(round(FAdiff,2))+\"% more formal actions\")\n",
    "print(\"Facilities more recently inspected have \"+str(round(IAdiff,2))+\"% more informal actions\")"
   ]
  },
  {
   "cell_type": "markdown",
   "metadata": {},
   "source": [
    "### But are EPA and state agencies even doing inspections on a regular basis?\n",
    "Here we will analyze whether facilities' most recent inspection interval (days to last inspection) is longer than their average inspection interval over the past 5 years."
   ]
  },
  {
   "cell_type": "code",
   "execution_count": null,
   "metadata": {},
   "outputs": [],
   "source": [
    "InspectionsOutOfDate=inspected[(inspected[\"FAC_DAYS_LAST_INSPECTION\"] > (1825/inspected[\"FAC_INSPECTION_COUNT\"]))]\n",
    "percentWithInspectionsOutOfDate=(InspectionsOutOfDate.shape[0]/inspected.shape[0])*100\n",
    "print(str(round(percentWithInspectionsOutOfDate,2))+\"% of facilities haven't been inspected in more than their typical interval\")"
   ]
  }
 ],
 "metadata": {
  "kernelspec": {
   "display_name": "Python 3",
   "language": "python",
   "name": "python3"
  },
  "language_info": {
   "codemirror_mode": {
    "name": "ipython",
    "version": 3
   },
   "file_extension": ".py",
   "mimetype": "text/x-python",
   "name": "python",
   "nbconvert_exporter": "python",
   "pygments_lexer": "ipython3",
   "version": "3.7.2"
  }
 },
 "nbformat": 4,
 "nbformat_minor": 2
}
